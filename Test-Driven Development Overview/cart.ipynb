{
 "cells": [
  {
   "cell_type": "markdown",
   "metadata": {},
   "source": [
    "## Testing a shopping cart Using Assert Statements\n",
    "\n",
    "The following code shows a shopping cart where items can be added. All items in cart are displayed including their descriptions, quantities and extended price. \n",
    " \n",
    "The goal of this lab is to test the functionality of these classes using assert statements. \n",
    " \n",
    "In the function ```test_cart``` creates an instance of ```Product```, ```LineItem```, and ```Cart```. Once the instance is created use assert statements to verify that the methods work as expected. Refer to “the power of assertions” for details on how to apply asserts in python. "
   ]
  },
  {
   "cell_type": "code",
   "execution_count": 1,
   "metadata": {},
   "outputs": [],
   "source": [
    "class Product:\n",
    "    def __init__(self, name, price):\n",
    "        self.name = name\n",
    "        self.price = price\n"
   ]
  },
  {
   "cell_type": "code",
   "execution_count": 2,
   "metadata": {},
   "outputs": [],
   "source": [
    "class LineItem:\n",
    "    def __init__(self, product, quantity):\n",
    "        self.product = product\n",
    "        self.quantity = quantity\n",
    "\n",
    "    def get_extended_price(self):\n",
    "        return self.product.price * self.quantity"
   ]
  },
  {
   "cell_type": "code",
   "execution_count": 3,
   "metadata": {},
   "outputs": [],
   "source": [
    "class Cart:\n",
    "    def __init__(self):\n",
    "        self.line_items: [LineItem] = []\n",
    "\n",
    "    def add_product(self, product: Product, quantity: int):\n",
    "        self.line_items.append(LineItem(product, quantity))\n",
    "\n",
    "    def get_total(self) -> int:\n",
    "        total = 0\n",
    "        for line in self.line_items:\n",
    "            total += line.product.price * line.quantity\n",
    "\n",
    "        return total\n",
    "\n",
    "    def remove(self, line_item_number: int):\n",
    "        self.line_items.remove(self.line_items[line_item_number - 1])\n",
    "\n",
    "    def update_quantity(self, line_item_number: int, updated_quantity: int):\n",
    "        self.line_items[line_item_number - 1].quantity = updated_quantity\n",
    "\n",
    "    def __str__(self):\n",
    "        output = []\n",
    "        for line in self.line_items:\n",
    "            output.append(f\"{line.quantity} {line.product.name} {line.product.price} = {line.get_extended_price()}\")\n",
    "        output.append(f\"total: {self.get_total()}\")\n",
    "        return \"\\n\".join(output)\n"
   ]
  },
  {
   "cell_type": "code",
   "execution_count": 4,
   "metadata": {},
   "outputs": [],
   "source": [
    "# test the above classes here using assert methods \n",
    "\n",
    "def test_cart():\n",
    "    \"\"\"\n",
    "    Create instances of the above three\n",
    "    classes, and use assert statements to\n",
    "    test that they operate as expected.\n",
    "    \"\"\"\n",
    "    pass\n"
   ]
  }
 ],
 "metadata": {
  "kernelspec": {
   "display_name": "Python 3",
   "language": "python",
   "name": "python3"
  },
  "language_info": {
   "codemirror_mode": {
    "name": "ipython",
    "version": 3
   },
   "file_extension": ".py",
   "mimetype": "text/x-python",
   "name": "python",
   "nbconvert_exporter": "python",
   "pygments_lexer": "ipython3",
   "version": "3.7.6"
  }
 },
 "nbformat": 4,
 "nbformat_minor": 4
}
