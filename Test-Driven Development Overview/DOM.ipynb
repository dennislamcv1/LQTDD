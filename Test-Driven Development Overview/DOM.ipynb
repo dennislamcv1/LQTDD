{
 "cells": [
  {
   "cell_type": "markdown",
   "metadata": {},
   "source": [
    "## Test HTML Tags in Python Using Assert Statements\n",
    "\n",
    "The goal of this lab is to gain more practice with testing code using assert statements. \n",
    "The following functions model various HTML tags in python. \n",
    "\n",
    "Verify that these functions behave as expected by writing assert statements for all of \n",
    "them in the ```test_dom``` function. "
   ]
  },
  {
   "cell_type": "code",
   "execution_count": 1,
   "metadata": {},
   "outputs": [
    {
     "name": "stdout",
     "output_type": "stream",
     "text": [
      "<div><div>Hello<br />World</div></div>\n"
     ]
    }
   ],
   "source": [
    "def attribute(kv):\n",
    "    return f\"{kv[0]}=\\\"{kv[1]}\\\"\"\n",
    "\n",
    "\n",
    "def attribute_list(attributes):\n",
    "    return \" \".join(map(attribute, attributes.items())) if len(attributes) else \"\"\n",
    "\n",
    "\n",
    "def closed_tag(name=\"div\", content=\"\", attributes={}):\n",
    "    output = f\"<{name}{attribute_list(attributes)}>{content}</{name}>\"\n",
    "    return output\n",
    "\n",
    "\n",
    "def open_tag(name=\"div\", attributes={}):\n",
    "    output = f\"<{name}{attribute_list(attributes)} />\"\n",
    "    return output\n",
    "\n",
    "\n",
    "def tag(name=\"div\", content=\"\", attributes={}, is_closed=True):\n",
    "    return closed_tag(name, content, attributes) if is_closed else open_tag(name, attributes)\n",
    "\n",
    "\n",
    "def div(content=\"\", attributes={}):\n",
    "    return tag(\"div\", content, attributes, True)\n",
    "\n",
    "\n",
    "def br():\n",
    "    return tag(\"br\", \"\", {}, False)\n",
    "\n",
    "\n",
    "def p(content=\"\", attributes={}):\n",
    "    return tag(\"p\", content, attributes, True)\n",
    "\n",
    "\n",
    "def img(attributes={}):\n",
    "    return tag(\"img\", \"\", attributes, False)\n",
    "\n",
    "# TEST\n",
    "print(\n",
    "    div(\n",
    "        div(\n",
    "            f\"Hello{br()}World\"\n",
    "        )\n",
    "    )\n",
    ")\n"
   ]
  },
  {
   "cell_type": "code",
   "execution_count": 2,
   "metadata": {},
   "outputs": [],
   "source": [
    "def test_dom():\n",
    "    \"\"\"\n",
    "    Enter in your assert statements\n",
    "    within this function\n",
    "    \"\"\"\n",
    "    pass\n"
   ]
  }
 ],
 "metadata": {
  "kernelspec": {
   "display_name": "Python 3",
   "language": "python",
   "name": "python3"
  },
  "language_info": {
   "codemirror_mode": {
    "name": "ipython",
    "version": 3
   },
   "file_extension": ".py",
   "mimetype": "text/x-python",
   "name": "python",
   "nbconvert_exporter": "python",
   "pygments_lexer": "ipython3",
   "version": "3.7.6"
  }
 },
 "nbformat": 4,
 "nbformat_minor": 4
}
