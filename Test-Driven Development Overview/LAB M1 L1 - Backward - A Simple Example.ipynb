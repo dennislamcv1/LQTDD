{
 "cells": [
  {
   "cell_type": "markdown",
   "metadata": {},
   "source": [
    "    MARKETING REQUEST FOR DEVELOPMENT:\n",
    "        We want a be able to display text backward where the letters we put in are reversed. e.g. \"ABC\" becomes \"CBA\"\n",
    "\n",
    "    ENGINEERING FUNCTIONAL REQUIREMENTS:\n",
    "        1. The identifier \"backwards\" must point to a function.\n",
    "        2. The function must accept a string as input.\n",
    "        3. The output value from the function must be the input reversed.\n",
    "\n",
    "    THE TDD PROCESS (Repeat for each functional requirement):\n",
    "        - Red       =   Make a failing test; see it FAIL.\n",
    "        - Green     =   Do the minimum required to make it pass; see it PASS.\n",
    "        - Refactor  =   Make it work well; see it still passes."
   ]
  },
  {
   "cell_type": "code",
   "execution_count": 13,
   "metadata": {},
   "outputs": [],
   "source": [
    "# V1\n",
    "def backwards(): pass"
   ]
  },
  {
   "cell_type": "code",
   "execution_count": 14,
   "metadata": {},
   "outputs": [],
   "source": [
    "# V2\n",
    "def backwards(text): return True"
   ]
  },
  {
   "cell_type": "code",
   "execution_count": 15,
   "metadata": {},
   "outputs": [],
   "source": [
    "# V3\n",
    "def backwards(text): return text[::-1]"
   ]
  },
  {
   "cell_type": "code",
   "execution_count": 16,
   "metadata": {},
   "outputs": [],
   "source": [
    "# V4\n",
    "# def backwards(text):\n",
    "#   letters = list(text)\n",
    "#   letters.reverse()\n",
    "#   return \"\".join(letters)"
   ]
  },
  {
   "cell_type": "code",
   "execution_count": 17,
   "metadata": {},
   "outputs": [],
   "source": [
    "suite: dict = {\n",
    "    \"1. Is Function\": lambda: callable(backwards),\n",
    "    \"2. Accepts String\": lambda: backwards(\"ABC\"),\n",
    "    \"3. Is Reversed\": lambda: \"ZYX\" == backwards(\"XYZ\"),\n",
    "}"
   ]
  },
  {
   "cell_type": "code",
   "execution_count": 18,
   "metadata": {},
   "outputs": [
    {
     "name": "stdout",
     "output_type": "stream",
     "text": [
      "\u001b[32mPASS-GREEN:   : 1. Is Function\n",
      "\u001b[32mPASS-GREEN:   : 2. Accepts String\n",
      "\u001b[32mPASS-GREEN:   : 3. Is Reversed\n"
     ]
    },
    {
     "data": {
      "text/plain": [
       "''"
      ]
     },
     "execution_count": 18,
     "metadata": {},
     "output_type": "execute_result"
    }
   ],
   "source": [
    "# SIMPLE TEST FRAMEWORK\n",
    "red, green = (u\"\\u001b[31mFAIL-RED:    \", u\"\\u001b[32mPASS-GREEN:  \")\n",
    "for name, test in suite.items():\n",
    "    try:\n",
    "        print(f\"{green if test() else red} : {name}\")\n",
    "    except Exception as message:\n",
    "        print(f\"{red}{name} MESSAGE: {message}\")\n",
    "''"
   ]
  },
  {
   "cell_type": "code",
   "execution_count": null,
   "metadata": {},
   "outputs": [],
   "source": []
  }
 ],
 "metadata": {
  "kernelspec": {
   "display_name": "Python 3",
   "language": "python",
   "name": "python3"
  },
  "language_info": {
   "codemirror_mode": {
    "name": "ipython",
    "version": 3
   },
   "file_extension": ".py",
   "mimetype": "text/x-python",
   "name": "python",
   "nbconvert_exporter": "python",
   "pygments_lexer": "ipython3",
   "version": "3.7.6"
  }
 },
 "nbformat": 4,
 "nbformat_minor": 4
}
